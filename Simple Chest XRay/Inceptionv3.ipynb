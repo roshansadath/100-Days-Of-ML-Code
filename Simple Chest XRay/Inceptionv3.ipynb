{
  "cells": [
    {
      "cell_type": "markdown",
      "metadata": {
        "id": "view-in-github",
        "colab_type": "text"
      },
      "source": [
        "<a href=\"https://colab.research.google.com/github/roshansadath/100-Days-Of-ML-Code/blob/master/Simple%20Chest%20XRay/Inceptionv3.ipynb\" target=\"_parent\"><img src=\"https://colab.research.google.com/assets/colab-badge.svg\" alt=\"Open In Colab\"/></a>"
      ]
    },
    {
      "cell_type": "code",
      "execution_count": null,
      "metadata": {
        "colab": {
          "base_uri": "https://localhost:8080/"
        },
        "id": "naOl1p_8N5kl",
        "outputId": "ec5d5dad-a92b-4691-ad99-bdce267ade5a"
      },
      "outputs": [
        {
          "output_type": "stream",
          "name": "stdout",
          "text": [
            "Mounted at /content/drive\n"
          ]
        }
      ],
      "source": [
        "from google.colab import drive\n",
        "drive.mount('/content/drive', force_remount = True)"
      ],
      "id": "naOl1p_8N5kl"
    },
    {
      "cell_type": "code",
      "execution_count": null,
      "metadata": {
        "id": "b9b3415d"
      },
      "outputs": [],
      "source": [
        "import os, time, random, torch, warnings\n",
        "import numpy as np\n",
        "from PIL import Image\n",
        "import torch.nn as nn\n",
        "import seaborn as sns\n",
        "from tqdm import tqdm\n",
        "import torch.optim as optim\n",
        "import matplotlib.pyplot as plt\n",
        "import torchvision.datasets as datasets\n",
        "import torchvision.transforms as transforms\n",
        "from torch.utils.data import DataLoader, random_split\n",
        "from sklearn.metrics import precision_score, recall_score, f1_score\n",
        "\n",
        "warnings.simplefilter(\"ignore\")\n",
        "%run \"/content/drive/My Drive/Colab Notebooks/utils.ipynb\"\n",
        "device = torch.device('cuda' if torch.cuda.is_available() else 'cpu')\n",
        "device"
      ],
      "id": "b9b3415d"
    },
    {
      "cell_type": "code",
      "source": [
        "from torchvision.models.inception import InceptionOutputs"
      ],
      "metadata": {
        "id": "KK4LljrSYMzb"
      },
      "id": "KK4LljrSYMzb",
      "execution_count": null,
      "outputs": []
    },
    {
      "cell_type": "code",
      "execution_count": null,
      "metadata": {
        "id": "4OHDnzINmaWL"
      },
      "outputs": [],
      "source": [
        "data_path = \"drive/My Drive/Simple_Chest_XRay/\"\n",
        "#data_path = \"drive/My Drive/NIH_Chest_XRay/\"\n",
        "#data_path = \"drive/My Drive/Harvard_Chest_XRay/\"\n",
        "\n",
        "sample_ratio = 1\n",
        "batch_size = 64\n",
        "num_epochs = 15"
      ],
      "id": "4OHDnzINmaWL"
    },
    {
      "cell_type": "code",
      "execution_count": null,
      "metadata": {
        "id": "j30qTJnkpvd3"
      },
      "outputs": [],
      "source": [
        "# Set random seed for reproducibility\n",
        "torch.manual_seed(42)\n",
        "np.random.seed(42)\n",
        "random.seed(42)"
      ],
      "id": "j30qTJnkpvd3"
    },
    {
      "cell_type": "markdown",
      "metadata": {
        "id": "ekRi1x_nsNpx"
      },
      "source": [
        "**DATA PREPROCESSING**\n"
      ],
      "id": "ekRi1x_nsNpx"
    },
    {
      "cell_type": "code",
      "source": [
        "def data_sampling(indices):\n",
        "  return torch.utils.data.sampler.SubsetRandomSampler(indices)"
      ],
      "metadata": {
        "id": "7RNVwBbTv8xP"
      },
      "id": "7RNVwBbTv8xP",
      "execution_count": null,
      "outputs": []
    },
    {
      "cell_type": "code",
      "execution_count": null,
      "metadata": {
        "id": "m8ijtwkIpZhs"
      },
      "outputs": [],
      "source": [
        "data_transforms = transforms.Compose([\n",
        "  transforms.Resize((299, 299)),\n",
        "  transforms.ToTensor(),\n",
        "  transforms.Normalize((0.485, 0.456, 0.406), (0.229, 0.224, 0.225))])\n",
        "\n",
        "# Get dataset from folder and apply data transforms\n",
        "dataset = datasets.ImageFolder(root = \"{}data\".format(data_path), transform = data_transforms)\n",
        "  \n",
        "# Get a sample of the data randomly\n",
        "num_samples = int(len(dataset) * sample_ratio)\n",
        "indices = np.random.choice(range(len(dataset)), num_samples, replace = False)\n",
        "\n",
        "# Split the data into training, test, and validation sets\n",
        "train_size = int(0.7 * num_samples)\n",
        "test_size = int(0.2 * num_samples)\n",
        "val_size = num_samples - train_size - test_size\n",
        "\n",
        "train_indices = indices[ : train_size]\n",
        "test_indices = indices[train_size : train_size + test_size]\n",
        "val_indices = indices[train_size + test_size : ]\n",
        "\n",
        "samples = [data_sampling(i) for i in [train_indices, test_indices, val_indices]]\n",
        "\n",
        "# Create data loaders for training, test, and validation sets\n",
        "train_loader = DataLoader(dataset, batch_size = batch_size, sampler = samples[0], num_workers = 4, pin_memory = True)\n",
        "test_loader = DataLoader(dataset, batch_size = batch_size, sampler = samples[1], num_workers = 4, pin_memory = True)\n",
        "val_loader = DataLoader(dataset, batch_size = batch_size, sampler = samples[2], num_workers = 4, pin_memory = True)"
      ],
      "id": "m8ijtwkIpZhs"
    },
    {
      "cell_type": "markdown",
      "metadata": {
        "id": "_8krRXxA2iy6"
      },
      "source": [
        " **DOWNLOAD RESNET18 MODEL AND TRAIN**\n"
      ],
      "id": "_8krRXxA2iy6"
    },
    {
      "cell_type": "code",
      "execution_count": null,
      "metadata": {
        "id": "-cJoqDX56E7l"
      },
      "outputs": [],
      "source": [
        "def save_metrics(loss, accuracy, model):\n",
        "  np.save(\"{}{}_train_loss.npy\".format(data_path, model), loss)\n",
        "  np.save(\"{}{}_train_accuracy.npy\".format(data_path, model), accuracy)"
      ],
      "id": "-cJoqDX56E7l"
    },
    {
      "cell_type": "code",
      "execution_count": null,
      "metadata": {
        "id": "adbe3fa8",
        "colab": {
          "base_uri": "https://localhost:8080/"
        },
        "outputId": "4366319a-e4be-47eb-e01f-cb0f0e8e8318"
      },
      "outputs": [
        {
          "output_type": "stream",
          "name": "stderr",
          "text": [
            "Downloading: \"https://github.com/pytorch/vision/zipball/v0.9.0\" to /root/.cache/torch/hub/v0.9.0.zip\n"
          ]
        },
        {
          "output_type": "stream",
          "name": "stdout",
          "text": [
            "Epoch: 1 | Accuracy: 0.8831 | Loss: 0.2887 | Recall: 0.8467 | Precision: 0.8562 | F-Score: 0.8512 | Time: 4684.5017s\n",
            "MODEL PERFORMANCE ON VALIDATION SET\n",
            "Accuracy: 0.8311 | Loss: 0.6291 | Recall: 0.8786 | Precision: 0.7922 | F-score: 0.8070\n",
            "\n",
            "Epoch: 2 | Accuracy: 0.8609 | Loss: 0.3218 | Recall: 0.8359 | Precision: 0.8406 | F-Score: 0.8382 | Time: 3905.0371s\n",
            "MODEL PERFORMANCE ON VALIDATION SET\n",
            "Accuracy: 0.9215 | Loss: 0.2357 | Recall: 0.8707 | Precision: 0.9119 | F-score: 0.8887\n",
            "\n",
            "Epoch: 3 | Accuracy: 0.9200 | Loss: 0.2049 | Recall: 0.8583 | Precision: 0.8598 | F-Score: 0.8590 | Time: 3917.3159s\n",
            "MODEL PERFORMANCE ON VALIDATION SET\n",
            "Accuracy: 0.9659 | Loss: 0.1223 | Recall: 0.9563 | Precision: 0.9521 | F-score: 0.9542\n",
            "\n",
            "Epoch: 4 | Accuracy: 0.9290 | Loss: 0.1778 | Recall: 0.8717 | Precision: 0.8724 | F-Score: 0.8721 | Time: 3914.6997s\n",
            "MODEL PERFORMANCE ON VALIDATION SET\n",
            "Accuracy: 0.9608 | Loss: 0.1176 | Recall: 0.9459 | Precision: 0.9480 | F-score: 0.9469\n",
            "\n",
            "Epoch: 5 | Accuracy: 0.9366 | Loss: 0.1602 | Recall: 0.8819 | Precision: 0.8818 | F-Score: 0.8818 | Time: 3812.8485s\n",
            "MODEL PERFORMANCE ON VALIDATION SET\n",
            "Accuracy: 0.9147 | Loss: 0.2303 | Recall: 0.9341 | Precision: 0.8713 | F-score: 0.8946\n",
            "\n",
            "Epoch: 6 | Accuracy: 0.9495 | Loss: 0.1362 | Recall: 0.8910 | Precision: 0.8909 | F-Score: 0.8910 | Time: 3822.7705s\n",
            "MODEL PERFORMANCE ON VALIDATION SET\n",
            "Accuracy: 0.9573 | Loss: 0.1354 | Recall: 0.9577 | Precision: 0.9325 | F-score: 0.9441\n",
            "\n",
            "Epoch: 7 | Accuracy: 0.9624 | Loss: 0.1034 | Recall: 0.8998 | Precision: 0.8998 | F-Score: 0.8998 | Time: 3792.3718s\n",
            "MODEL PERFORMANCE ON VALIDATION SET\n",
            "Accuracy: 0.9608 | Loss: 0.1292 | Recall: 0.9693 | Precision: 0.9332 | F-score: 0.9492\n",
            "\n",
            "Epoch: 8 | Accuracy: 0.9580 | Loss: 0.1245 | Recall: 0.9056 | Precision: 0.9058 | F-Score: 0.9057 | Time: 3806.9905s\n",
            "MODEL PERFORMANCE ON VALIDATION SET\n",
            "Accuracy: 0.9710 | Loss: 0.0872 | Recall: 0.9644 | Precision: 0.9580 | F-score: 0.9611\n",
            "\n",
            "Epoch: 9 | Accuracy: 0.9641 | Loss: 0.0943 | Recall: 0.9110 | Precision: 0.9113 | F-Score: 0.9112 | Time: 3800.0086s\n",
            "MODEL PERFORMANCE ON VALIDATION SET\n",
            "Accuracy: 0.9693 | Loss: 0.1065 | Recall: 0.9726 | Precision: 0.9484 | F-score: 0.9597\n",
            "\n",
            "Epoch: 10 | Accuracy: 0.9663 | Loss: 0.0879 | Recall: 0.9156 | Precision: 0.9160 | F-Score: 0.9158 | Time: 3783.8775s\n",
            "MODEL PERFORMANCE ON VALIDATION SET\n",
            "Accuracy: 0.9556 | Loss: 0.1199 | Recall: 0.9402 | Precision: 0.9402 | F-score: 0.9402\n",
            "\n"
          ]
        }
      ],
      "source": [
        "# Define the ResNet18 model and set Pretraining to False to train model from scratch\n",
        "model = torch.hub.load('pytorch/vision:v0.9.0', 'inception_v3', pretrained = False)\n",
        "#num_ftrs = model.fc.in_features\n",
        "model.fc = nn.Linear(2048, len(dataset.classes))\n",
        "model.to(device)\n",
        "\n",
        "# Define loss function as CrossEntropy and optimizer as Adam Optimizer\n",
        "criterion = nn.CrossEntropyLoss()\n",
        "optimizer = optim.Adam(model.parameters(), lr = 0.001)\n",
        "losses, accuracies, true, pred, v_accuracies, v_losses = [], [], [], [], [], []\n",
        "\n",
        "# Train model on training set\n",
        "for epoch in range(num_epochs):\n",
        "    train_loss, train_accuracy, start_time = 0.0, 0.0, time.time()\n",
        "\n",
        "    with tqdm(total=len(train_loader), desc=f'Epoch {epoch+1}/{num_epochs}', unit='batch') as pbar:\n",
        "      for inputs, labels in train_loader:\n",
        "          inputs = inputs.to(device)\n",
        "          labels = labels.to(device)\n",
        "\n",
        "          optimizer.zero_grad()\n",
        "          outputs = model(inputs)\n",
        "          _, preds = torch.max(outputs, 1)\n",
        "          loss = criterion(outputs, labels)\n",
        "          loss.backward()\n",
        "          optimizer.step()\n",
        "          train_loss += loss.item() * inputs.size(0)\n",
        "          train_accuracy += torch.sum(preds == labels.data)\n",
        "          pred.extend(preds.cpu().numpy())\n",
        "          true.extend(labels.cpu().numpy())\n",
        "          \n",
        "          pbar.set_postfix({'loss': loss.item()})\n",
        "          pbar.update()\n",
        "\n",
        "    train_loss /= len(train_indices)\n",
        "    train_accuracy /= len(train_indices)\n",
        "    _recall = recall_score(true, pred, average='macro')\n",
        "    _precision = precision_score(true, pred, average='macro')\n",
        "    _fscore = f1_score(true, pred, average='macro')\n",
        "\n",
        "    print('Epoch: {} | Accuracy: {:.4f} | Loss: {:.4f} | Recall: {:.4f} | Precision: {:.4f} | F-Score: {:.4f} | Time: {:.4f}s'.format(epoch+1, train_accuracy, train_loss, _recall, _precision, _fscore, time.time() - start_time))\n",
        "    val_accuracy, val_loss = evaluate_model(model, val_loader, val_indices, 'VALIDATION', criterion, data_path, \"InceptionV3\")\n",
        "    v_accuracies.append(val_accuracy)\n",
        "    v_losses.append(val_loss)\n",
        "    losses.append(train_loss)\n",
        "    accuracies.append(train_accuracy.item())\n",
        "\n",
        "save_metrics(losses, accuracies, \"InceptionV3\")"
      ],
      "id": "adbe3fa8"
    },
    {
      "cell_type": "markdown",
      "metadata": {
        "id": "tNvKSdNUTL5o"
      },
      "source": [
        "**SAVE MODEL PARAMETERS**"
      ],
      "id": "tNvKSdNUTL5o"
    },
    {
      "cell_type": "code",
      "execution_count": null,
      "metadata": {
        "id": "_AEMNS3KCIwi"
      },
      "outputs": [],
      "source": [
        "torch.save(model.state_dict(), \"{}inceptionv3.pth\".format(data_path))"
      ],
      "id": "_AEMNS3KCIwi"
    },
    {
      "cell_type": "code",
      "execution_count": null,
      "metadata": {
        "id": "ujIIcw9XEiNS",
        "colab": {
          "base_uri": "https://localhost:8080/",
          "height": 350
        },
        "outputId": "de71d972-0be3-4a83-cf31-749d1d9defb9"
      },
      "outputs": [
        {
          "output_type": "display_data",
          "data": {
            "text/plain": [
              "<Figure size 864x360 with 2 Axes>"
            ],
            "image/png": "[encoded data removed]"
          },
          "metadata": {
            "needs_background": "light"
          }
        }
      ],
      "source": [
        "#Plotting the Loss and Accuracy Curves\n",
        "fig, (ax1, ax2) = plt.subplots(1, 2, figsize=(12, 5))\n",
        "\n",
        "ax1.plot(losses, label = \"Training Loss\")\n",
        "ax1.plot(v_losses, label = \"Validation Loss\")\n",
        "ax1.set_xlabel('Epoch')\n",
        "ax1.set_ylabel('Loss')\n",
        "ax1.set_title('Training and Validation Loss Curve')\n",
        "ax1.legend()\n",
        "\n",
        "ax2.plot(accuracies, label = \"Training Accuracy\")\n",
        "ax2.plot(v_accuracies, label = \"Validation Accuracy\")\n",
        "ax2.set_xlabel('Epoch')\n",
        "ax2.set_ylabel('Accuracy')\n",
        "ax2.set_title('Training and Validation Accuracy Curve')\n",
        "ax2.legend()\n",
        "\n",
        "plt.show()"
      ],
      "id": "ujIIcw9XEiNS"
    },
    {
      "cell_type": "markdown",
      "metadata": {
        "id": "9O3rqTRw3CmU"
      },
      "source": [
        "**EVALUATE MODEL ON VALIDATION AND TEST SET**"
      ],
      "id": "9O3rqTRw3CmU"
    },
    {
      "cell_type": "code",
      "execution_count": null,
      "metadata": {
        "id": "UbgkKSF1Klza",
        "colab": {
          "base_uri": "https://localhost:8080/",
          "height": 348
        },
        "outputId": "e88870a4-8ab6-409c-d6e3-b0fbba160f17"
      },
      "outputs": [
        {
          "output_type": "stream",
          "name": "stdout",
          "text": [
            "MODEL PERFORMANCE ON TEST SET\n",
            "Accuracy: 0.9419 | Loss: 0.1491 | Recall: 0.9282 | Precision: 0.9248 | F-score: 0.9265\n",
            "\n"
          ]
        },
        {
          "output_type": "display_data",
          "data": {
            "text/plain": [
              "<Figure size 576x576 with 0 Axes>"
            ]
          },
          "metadata": {}
        },
        {
          "output_type": "display_data",
          "data": {
            "text/plain": [
              "<Figure size 432x288 with 2 Axes>"
            ],
            "image/png": "[encoded data removed]"
          },
          "metadata": {
            "needs_background": "light"
          }
        }
      ],
      "source": [
        "#Evaluate Model on Test Set\n",
        "evaluate_model(model, test_loader, test_indices, 'TEST', criterion, data_path, \"Inceptionv3\")"
      ],
      "id": "UbgkKSF1Klza"
    },
    {
      "cell_type": "code",
      "source": [
        "#Obtain the TSNE Plot for the data\n",
        "features = []\n",
        "labels = []\n",
        "for images, targets in train_loader:\n",
        "    with torch.no_grad():\n",
        "        output = model(images)\n",
        "        features.append(output.cpu().numpy())\n",
        "        labels.append(targets.numpy())\n",
        "\n",
        "features = np.vstack(features)\n",
        "labels = np.concatenate(labels)\n",
        "\n",
        "# Perform t-SNE on the feature vectors\n",
        "tsne = TSNE(n_components=2, perplexity = 20, learning_rate = 600, n_iter = 900)\n",
        "tsne_features = tsne.fit_transform(features)\n",
        "\n",
        "plt.scatter(tsne_features[:, 0], tsne_features[:, 1], c=labels, cmap=plt.cm.get_cmap('jet', len(dataset.classes)))\n",
        "plt.legend()\n",
        "plt.title('t-SNE Plot')\n",
        "plt.show()"
      ],
      "metadata": {
        "id": "nynq4eFRDmg6"
      },
      "id": "nynq4eFRDmg6",
      "execution_count": null,
      "outputs": []
    },
    {
      "cell_type": "code",
      "source": [
        "# Get the class labels and the number of classes\n",
        "class_labels = dataset.classes\n",
        "num_classes = len(class_labels)\n",
        "\n",
        "# Get the number of images per class\n",
        "num_images_per_class = []\n",
        "for i in range(num_classes):\n",
        "    class_indices = np.where(np.array(dataset.targets) == i)[0]\n",
        "    num_images_per_class.append(len(class_indices))\n",
        "\n",
        "# Compute the mean and variance of the images per class\n",
        "mean_num_images = np.mean(num_images_per_class)\n",
        "var_num_images = np.var(num_images_per_class)\n",
        "\n",
        "# Plot the within-class variance\n",
        "fig, ax = plt.subplots()\n",
        "ax.bar(class_labels, num_images_per_class)\n",
        "ax.axhline(y=mean_num_images, linestyle='--', color='r', label='Mean')\n",
        "ax.axhspan(mean_num_images - np.sqrt(var_num_images), mean_num_images + np.sqrt(var_num_images),\n",
        "           alpha=0.2, color='y', label='Variance')\n",
        "ax.legend()\n",
        "plt.xticks(rotation = 0)\n",
        "plt.ylabel('Number of Images')\n",
        "plt.xlabel('Class Labels')\n",
        "plt.title('Within-Class Variance Plot')\n",
        "plt.show()"
      ],
      "metadata": {
        "id": "Pgp7fX2nEtiD"
      },
      "id": "Pgp7fX2nEtiD",
      "execution_count": null,
      "outputs": []
    },
    {
      "cell_type": "code",
      "source": [
        "def within_class_variance(dataset, model):\n",
        "    # Set the model to evaluation mode\n",
        "    model.load_state_dict(model['model_state_dict'])\n",
        "    model.eval()\n",
        "    # Get the feature vectors and labels for the dataset\n",
        "    features = []\n",
        "    labels = []\n",
        "    for images, targets in train_loader:\n",
        "        with torch.no_grad():\n",
        "          images = images.to(device)\n",
        "          targets = targets.to(device)\n",
        "          output = model(images)\n",
        "          features.append(output.cpu().numpy()[0])\n",
        "          labels.append(targets.cpu().numpy()[0])\n",
        "    features = np.array(features)\n",
        "    labels = np.array(labels)\n",
        "    \n",
        "    # Calculate the within-class variance for each class\n",
        "    class_variances = []\n",
        "    for c in np.unique(labels):\n",
        "        class_features = features[labels == c]\n",
        "        class_mean = np.mean(class_features, axis=0)\n",
        "        class_variance = np.mean(np.sum((class_features - class_mean)**2, axis=1))\n",
        "        class_variances.append(class_variance)\n",
        "    \n",
        "    return class_variances\n",
        "\n",
        "# Define the dataset and model\n",
        "# Calculate the within-class variance\n",
        "class_variances = within_class_variance(dataset, model)\n",
        "\n",
        "# Plot the within-class variances for each class\n",
        "plt.bar(np.arange(len(class_variances)), class_variances)\n",
        "plt.xticks(np.arange(len(class_variances)), dataset.classes, rotation='vertical')\n",
        "plt.ylabel('Within-class variance')\n",
        "plt.show()"
      ],
      "metadata": {
        "id": "XqsUlH_WEvaQ"
      },
      "id": "XqsUlH_WEvaQ",
      "execution_count": null,
      "outputs": []
    }
  ],
  "metadata": {
    "accelerator": "GPU",
    "colab": {
      "provenance": [],
      "include_colab_link": true
    },
    "gpuClass": "standard",
    "kernelspec": {
      "display_name": "Python 3 (ipykernel)",
      "language": "python",
      "name": "python3"
    },
    "language_info": {
      "codemirror_mode": {
        "name": "ipython",
        "version": 3
      },
      "file_extension": ".py",
      "mimetype": "text/x-python",
      "name": "python",
      "nbconvert_exporter": "python",
      "pygments_lexer": "ipython3",
      "version": "3.9.13"
    }
  },
  "nbformat": 4,
  "nbformat_minor": 5
}